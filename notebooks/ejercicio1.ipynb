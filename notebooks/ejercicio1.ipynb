{
 "cells": [
  {
   "cell_type": "code",
   "execution_count": 1,
   "metadata": {},
   "outputs": [
    {
     "ename": "TypeError",
     "evalue": "startswith first arg must be str or a tuple of str, not list",
     "output_type": "error",
     "traceback": [
      "\u001b[31m---------------------------------------------------------------------------\u001b[39m",
      "\u001b[31mTypeError\u001b[39m                                 Traceback (most recent call last)",
      "\u001b[36mCell\u001b[39m\u001b[36m \u001b[39m\u001b[32mIn[1]\u001b[39m\u001b[32m, line 31\u001b[39m\n\u001b[32m      8\u001b[39m zen_text = \u001b[33m\"\"\"\u001b[39m\u001b[33mThe Zen of Python, by Tim Peters\u001b[39m\n\u001b[32m      9\u001b[39m \n\u001b[32m     10\u001b[39m \u001b[33mBeautiful is better than ugly.\u001b[39m\n\u001b[32m   (...)\u001b[39m\u001b[32m     28\u001b[39m \u001b[33mNamespaces are one honking great idea -- let\u001b[39m\u001b[33m'\u001b[39m\u001b[33ms do more of those!\u001b[39m\n\u001b[32m     29\u001b[39m \u001b[33mGur Mra bs Clguba, ol Gvz Crgref\u001b[39m\u001b[33m\"\"\"\u001b[39m\n\u001b[32m     30\u001b[39m texto= zen_text.lower()\n\u001b[32m---> \u001b[39m\u001b[32m31\u001b[39m \u001b[43mvocales\u001b[49m\u001b[43m(\u001b[49m\u001b[43mtexto\u001b[49m\u001b[43m)\u001b[49m\n",
      "\u001b[36mFile \u001b[39m\u001b[32mc:\\Users\\frann\\OneDrive\\Desktop\\facultad\\Seminario-Python\\repositorio-git\\src\\funciones\\vocals.py:7\u001b[39m, in \u001b[36mvocales\u001b[39m\u001b[34m(texto)\u001b[39m\n\u001b[32m      5\u001b[39m     \u001b[38;5;28;01mif\u001b[39;00m \u001b[38;5;28mlen\u001b[39m(i) >\u001b[32m1\u001b[39m:\n\u001b[32m      6\u001b[39m         palabra = i.split()[\u001b[32m1\u001b[39m];\n\u001b[32m----> \u001b[39m\u001b[32m7\u001b[39m         \u001b[38;5;28;01mif\u001b[39;00m \u001b[43mpalabra\u001b[49m\u001b[43m.\u001b[49m\u001b[43mstartswith\u001b[49m\u001b[43m(\u001b[49m\u001b[43mlistaVocales\u001b[49m\u001b[43m)\u001b[49m:\n\u001b[32m      8\u001b[39m             \u001b[38;5;28mprint\u001b[39m(i)\n\u001b[32m      9\u001b[39m \u001b[38;5;28;01mreturn\u001b[39;00m\n",
      "\u001b[31mTypeError\u001b[39m: startswith first arg must be str or a tuple of str, not list"
     ]
    }
   ],
   "source": [
    "import sys\n",
    "import os\n",
    "\n",
    "sys.path.append(os.path.abspath(\"../src\"))\n",
    "from funciones.vocals import vocales \n",
    "\n",
    "\n",
    "zen_text = \"\"\"The Zen of Python, by Tim Peters\n",
    "\n",
    "Beautiful is better than ugly.\n",
    "Explicit is better than implicit.\n",
    "Simple is better than complex.\n",
    "Complex is better than complicated.\n",
    "Flat is better than nested.\n",
    "Sparse is better than dense.\n",
    "Readability counts.\n",
    "Special cases aren't special enough to break the rules.\n",
    "Although practicality beats purity.\n",
    "Errors should never pass silently.\n",
    "Unless explicitly silenced.\n",
    "In the face of ambiguity, refuse the temptation to guess.\n",
    "There should be one-- and preferably only one --obvious way to do it.\n",
    "Although that way may not be obvious at first unless you're Dutch.\n",
    "Now is better than never.\n",
    "Although never is often better than *right* now.\n",
    "If the implementation is hard to explain, it's a bad idea.\n",
    "If the implementation is easy to explain, it may be a good idea.\n",
    "Namespaces are one honking great idea -- let's do more of those!\n",
    "Gur Mra bs Clguba, ol Gvz Crgref\"\"\"\n",
    "texto= zen_text.lower()\n",
    "vocales(texto)"
   ]
  }
 ],
 "metadata": {
  "kernelspec": {
   "display_name": "venv",
   "language": "python",
   "name": "python3"
  },
  "language_info": {
   "codemirror_mode": {
    "name": "ipython",
    "version": 3
   },
   "file_extension": ".py",
   "mimetype": "text/x-python",
   "name": "python",
   "nbconvert_exporter": "python",
   "pygments_lexer": "ipython3",
   "version": "3.12.8"
  }
 },
 "nbformat": 4,
 "nbformat_minor": 2
}
