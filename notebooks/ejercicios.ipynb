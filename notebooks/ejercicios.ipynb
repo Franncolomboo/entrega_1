{
 "cells": [
  {
   "cell_type": "markdown",
   "metadata": {},
   "source": [
    "#Ejecutar siempre esta celda para poder probar cualquier ejercicio"
   ]
  },
  {
   "cell_type": "code",
   "execution_count": 1,
   "metadata": {},
   "outputs": [],
   "source": [
    "import sys\n",
    "import os\n",
    "\n",
    "sys.path.append(os.path.abspath(\"../src\"))"
   ]
  },
  {
   "cell_type": "markdown",
   "metadata": {},
   "source": [
    "#Ejercicio 1:"
   ]
  },
  {
   "cell_type": "code",
   "execution_count": 2,
   "metadata": {},
   "outputs": [
    {
     "name": "stdout",
     "output_type": "stream",
     "text": [
      "beautiful is better than ugly.\n",
      "\n",
      "explicit is better than implicit.\n",
      "\n",
      "simple is better than complex.\n",
      "\n",
      "complex is better than complicated.\n",
      "\n",
      "flat is better than nested.\n",
      "\n",
      "sparse is better than dense.\n",
      "\n",
      "unless explicitly silenced.\n",
      "\n",
      "now is better than never.\n",
      "\n",
      "namespaces are one honking great idea -- let's do more of those!\n",
      "\n"
     ]
    }
   ],
   "source": [
    "from funciones.vocals import vocales \n",
    "\n",
    "zen_text = \"\"\"The Zen of Python, by Tim Peters\n",
    "\n",
    "Beautiful is better than ugly.\n",
    "Explicit is better than implicit.\n",
    "Simple is better than complex.\n",
    "Complex is better than complicated.\n",
    "Flat is better than nested.\n",
    "Sparse is better than dense.\n",
    "Readability counts.\n",
    "Special cases aren't special enough to break the rules.\n",
    "Although practicality beats purity.\n",
    "Errors should never pass silently.\n",
    "Unless explicitly silenced.\n",
    "In the face of ambiguity, refuse the temptation to guess.\n",
    "There should be one-- and preferably only one --obvious way to do it.\n",
    "Although that way may not be obvious at first unless you're Dutch.\n",
    "Now is better than never.\n",
    "Although never is often better than *right* now.\n",
    "If the implementation is hard to explain, it's a bad idea.\n",
    "If the implementation is easy to explain, it may be a good idea.\n",
    "Namespaces are one honking great idea -- let's do more of those!\n",
    "Gur Mra bs Clguba, ol Gvz Crgref\"\"\"\n",
    "texto= zen_text.lower()\n",
    "vocales(texto)"
   ]
  },
  {
   "cell_type": "markdown",
   "metadata": {},
   "source": [
    "#Ejercicio 2: "
   ]
  },
  {
   "cell_type": "code",
   "execution_count": 3,
   "metadata": {},
   "outputs": [
    {
     "data": {
      "text/plain": [
       "'Jugando al nuevo FPS del momento con amigos'"
      ]
     },
     "execution_count": 3,
     "metadata": {},
     "output_type": "execute_result"
    }
   ],
   "source": [
    "from funciones.renglon import renglonMasLargo\n",
    "titles = [\"Speedrun de Super Mario en tiempo récord\",\n",
    "\"Charla sobre desarrollo de videojuegos\",\n",
    "\"Jugando al nuevo FPS del momento con amigos\",\n",
    "\"Música en vivo: improvisaciones al piano\"]\n",
    "renglonMasLargo(titles)"
   ]
  },
  {
   "cell_type": "markdown",
   "metadata": {},
   "source": [
    "#Ejericio 3:"
   ]
  },
  {
   "cell_type": "code",
   "execution_count": 4,
   "metadata": {},
   "outputs": [
    {
     "name": "stdout",
     "output_type": "stream",
     "text": [
      "Respeta a los demás\n",
      " \n",
      "No se permiten insultos ni lenguaje ofensivo\n",
      "\n",
      "Evita el spam\n",
      " \n",
      "No publiques enlaces sospechosos o repetitivos\n",
      "\n",
      "No compartas información personal\n",
      "\n",
      "Usa los canales adecuados para cada tema\n",
      "\n",
      "Sigue las instrucciones de los moderadores\n",
      "\n"
     ]
    }
   ],
   "source": [
    "from funciones.clave import encontrarClave\n",
    "\n",
    "rules = \"\"\"Respeta a los demás. \n",
    "No se permiten insultos ni lenguaje ofensivo.\n",
    "Evita el spam. \n",
    "No publiques enlaces sospechosos o repetitivos.\n",
    "No compartas información personal.\n",
    "Usa los canales adecuados para cada tema.\n",
    "Sigue las instrucciones de los moderadores.\"\"\"\n",
    "\n",
    "palabraClave=input(\"Ingrese palabra clave: \")\n",
    "encontrarClave(rules,palabraClave)"
   ]
  },
  {
   "cell_type": "markdown",
   "metadata": {},
   "source": [
    "Ejercicio 4: "
   ]
  },
  {
   "cell_type": "code",
   "execution_count": 2,
   "metadata": {},
   "outputs": [
    {
     "name": "stdout",
     "output_type": "stream",
     "text": [
      "Usuario valido!\n"
     ]
    }
   ],
   "source": [
    "from funciones.validacion import validar\n",
    "\n",
    "usuario = input(\"Ingrese su usuario: \")\n",
    "validar(usuario)"
   ]
  },
  {
   "cell_type": "markdown",
   "metadata": {},
   "source": [
    "#Ejercicio 5:"
   ]
  },
  {
   "cell_type": "code",
   "execution_count": 3,
   "metadata": {},
   "outputs": [
    {
     "data": {
      "text/plain": [
       "'Velocidad rapida'"
      ]
     },
     "execution_count": 3,
     "metadata": {},
     "output_type": "execute_result"
    }
   ],
   "source": [
    "from funciones.clasificacion import clasificar\n",
    "\n",
    "tiempo= float(input(\"Ingrese su tiempo de velocidad de reccion en ms: \"))\n",
    "clasificar(tiempo)"
   ]
  },
  {
   "cell_type": "markdown",
   "metadata": {},
   "source": [
    "#Ejercicio 6:"
   ]
  },
  {
   "cell_type": "code",
   "execution_count": 4,
   "metadata": {},
   "outputs": [
    {
     "name": "stdout",
     "output_type": "stream",
     "text": [
      "Menciones de Musica: 4\n",
      "Menciones de Charla: 2\n",
      "Menciones de Entretenimiento: 1\n"
     ]
    }
   ],
   "source": [
    "from funciones.analizar import analisis\n",
    "descriptions = [\n",
    "\"Streaming de música en vivo con covers y composiciones\",\n",
    "\"Charla interactiva con la audiencia sobre series y películas\",\n",
    "\"Jugamos a juegos retro y charlamos sobre su historia\",\n",
    "\"Exploramos la mejor música de los 80s y 90s\",\n",
    "\"Programa de entretenimiento con noticias y curiosidades del mundo gamer\",\n",
    "\"Sesión de charla con invitados especiales del mundo del streaming\",\n",
    "\"Música en directo con improvisaciones y peticiones del chat\",\n",
    "\"Un espacio para charlar relajada sobre tecnología y cultura digital\",\n",
    "\"Exploramos el impacto de la música en los videojuegos clásicos\"\n",
    "]\n",
    "analisis(descriptions)"
   ]
  },
  {
   "cell_type": "code",
   "execution_count": 5,
   "metadata": {},
   "outputs": [
    {
     "name": "stdout",
     "output_type": "stream",
     "text": [
      "30\n"
     ]
    }
   ],
   "source": [
    "ejemplo =  \"FRANCISCO-20041207-7M0IMDDINGB\" \n",
    "print(len(ejemplo))"
   ]
  },
  {
   "cell_type": "markdown",
   "metadata": {},
   "source": [
    "#Ejercicio 7: "
   ]
  },
  {
   "cell_type": "code",
   "execution_count": 6,
   "metadata": {},
   "outputs": [
    {
     "name": "stdout",
     "output_type": "stream",
     "text": [
      "Cupon generado! FRANCISCO-20241207-WTVRSB27YFB\n"
     ]
    }
   ],
   "source": [
    "from funciones.generador import codigoDescuento\n",
    "\n",
    "usuario = input(\"Ingrese su usuario: \")\n",
    "fecha = input(\"Ingrese la fecha de la siguiente manera (año-dia-mes): \")\n",
    "codigoDescuento(usuario,fecha)\n"
   ]
  },
  {
   "cell_type": "markdown",
   "metadata": {},
   "source": [
    "#Ejercicio 8:"
   ]
  },
  {
   "cell_type": "code",
   "execution_count": null,
   "metadata": {},
   "outputs": [
    {
     "name": "stdout",
     "output_type": "stream",
     "text": [
      "Las palabras son anagramas\n"
     ]
    }
   ],
   "source": [
    "from funciones.analisis import anagrama\n",
    "palabra1 = input(\"Ingrese la primera palabra: \")\n",
    "palabra2 = input(\"Ingrese la segunda palabra: \") \n",
    "anagrama(palabra1,palabra2)"
   ]
  },
  {
   "cell_type": "markdown",
   "metadata": {},
   "source": [
    "#Ejercicio 9:"
   ]
  },
  {
   "cell_type": "code",
   "execution_count": null,
   "metadata": {},
   "outputs": [
    {
     "data": {
      "text/plain": [
       "['Alejandro gonzález',\n",
       " 'Ana lópez',\n",
       " 'Andrés ocampo',\n",
       " 'Carlos mendes',\n",
       " 'Claudia torres',\n",
       " 'Damián castillo',\n",
       " 'Gabriela ruíz',\n",
       " 'Juan pérez',\n",
       " 'Laura ramos',\n",
       " 'Luis rodríguez',\n",
       " 'Maria martínez',\n",
       " 'Marta suárez',\n",
       " 'María martínez',\n",
       " 'Miguel ángel',\n",
       " 'Monica herrera',\n",
       " 'Patricia vega',\n",
       " 'Pedro gómez',\n",
       " 'Ricardo fernández',\n",
       " 'Sandra morales']"
      ]
     },
     "execution_count": 1,
     "metadata": {},
     "output_type": "execute_result"
    }
   ],
   "source": [
    "from funciones.cleanner import limpieza\n",
    "\n",
    "clients = [\n",
    "    \" Ana López \", \"Pedro Gómez\", \"maria martínez\", \"Pedro Gómez \", \"\",\n",
    "    \" Luis Rodríguez \", None, \"ana lópez\", \"JUAN PÉREZ\", \"MARTA SUÁREZ\",\n",
    "    \"luis rodríguez\", \"maría martínez \", \" claudia torres\", \"CLAUDIA TORRES\",\n",
    "    \" \", \"pedro gómez\", \"Juan Pérez\", None, \"Ricardo Fernández\", \"LAURA RAMOS\",\n",
    "    \"carlos mendes\", \"RICARDO FERNÁNDEZ \", \" Laura ramos\", \"CARLOS MENDES\",\n",
    "    \"alejandro gonzález\", \" ALEJANDRO GONZÁLEZ \", \"Patricia Vega\",\n",
    "    \"patricia VEGA\", \"Andrés Ocampo\", \" andrés ocampo\", \"Monica Herrera\",\n",
    "    \"MONICA HERRERA \", \"gabriela ruíz\", \"Gabriela Ruíz\", \"sandra morales\",\n",
    "    \"SANDRA MORALES\", \"miguel ángel\", \"Miguel Ángel \", \" Damián Castillo\",\n",
    "    \"Damián Castillo \", None, \"\", \" \"\n",
    "]\n",
    "limpieza(clients)"
   ]
  },
  {
   "cell_type": "markdown",
   "metadata": {},
   "source": [
    "#Ejercicio 10:"
   ]
  },
  {
   "cell_type": "code",
   "execution_count": null,
   "metadata": {},
   "outputs": [
    {
     "name": "stdout",
     "output_type": "stream",
     "text": [
      "Ronda 1 :\n",
      " Jugador   |  Kills  |  Asistencias  |  Muertes  |  Puntos  |\n",
      "Shadow     |      2    |       1   |      1   |       6 \n",
      "\n",
      "\n",
      "Viper     |      1    |       2   |      1   |       4 \n",
      "\n",
      "\n",
      "Reaper     |      1    |       1   |      0   |       4 \n",
      "\n",
      "\n",
      "Blaze     |      1    |       0   |      0   |       3 \n",
      "\n",
      "\n",
      "Frost     |      0    |       1   |      0   |       1 \n",
      "\n",
      "\n",
      "Jugador MVP de la ronda: Shadow\n",
      "\n",
      "\n",
      "Ronda 2 :\n",
      " Jugador   |  Kills  |  Asistencias  |  Muertes  |  Puntos  |\n",
      "Shadow     |      2    |       3   |      1   |       8 \n",
      "\n",
      "\n",
      "Blaze     |      3    |       0   |      1   |       8 \n",
      "\n",
      "\n",
      "Viper     |      2    |       3   |      1   |       8 \n",
      "\n",
      "\n",
      "Frost     |      2    |       2   |      1   |       7 \n",
      "\n",
      "\n",
      "Reaper     |      1    |       2   |      0   |       5 \n",
      "\n",
      "\n",
      "Jugador MVP de la ronda: Frost\n",
      "\n",
      "\n",
      "Ronda 3 :\n",
      " Jugador   |  Kills  |  Asistencias  |  Muertes  |  Puntos  |\n",
      "Blaze     |      5    |       2   |      2   |       15 \n",
      "\n",
      "\n",
      "Shadow     |      3    |       3   |      1   |       11 \n",
      "\n",
      "\n",
      "Viper     |      3    |       4   |      2   |       11 \n",
      "\n",
      "\n",
      "Reaper     |      2    |       3   |      0   |       9 \n",
      "\n",
      "\n",
      "Frost     |      2    |       3   |      1   |       8 \n",
      "\n",
      "\n",
      "Jugador MVP de la ronda: Blaze\n",
      "\n",
      "\n",
      "Ronda 4 :\n",
      " Jugador   |  Kills  |  Asistencias  |  Muertes  |  Puntos  |\n",
      "Shadow     |      5    |       4   |      1   |       18 \n",
      "\n",
      "\n",
      "Blaze     |      6    |       2   |      3   |       17 \n",
      "\n",
      "\n",
      "Viper     |      3    |       6   |      2   |       13 \n",
      "\n",
      "\n",
      "Reaper     |      3    |       4   |      0   |       13 \n",
      "\n",
      "\n",
      "Frost     |      3    |       4   |      2   |       11 \n",
      "\n",
      "\n",
      "Jugador MVP de la ronda: Shadow\n",
      "\n",
      "\n",
      "Ronda 5 :\n",
      " Jugador   |  Kills  |  Asistencias  |  Muertes  |  Puntos  |\n",
      "Shadow     |      6    |       6   |      2   |       22 \n",
      "\n",
      "\n",
      "Blaze     |      6    |       3   |      3   |       18 \n",
      "\n",
      "\n",
      "Viper     |      5    |       6   |      3   |       18 \n",
      "\n",
      "\n",
      "Reaper     |      4    |       5   |      1   |       16 \n",
      "\n",
      "\n",
      "Frost     |      4    |       5   |      2   |       15 \n",
      "\n",
      "\n",
      "Jugador MVP de la ronda: Viper\n",
      "\n",
      "\n",
      "Ranking final: \n",
      " Jugador   |  Kills  |  Asistencias  |  Muertes  |  MVPs  |  Puntos  |\n",
      "Shadow     |       6    |      6     |      2   |   2   |   22 \n",
      "\n",
      "\n",
      "Blaze     |       6    |      3     |      3   |   1   |   18 \n",
      "\n",
      "\n",
      "Viper     |       5    |      6     |      3   |   1   |   18 \n",
      "\n",
      "\n",
      "Reaper     |       4    |      5     |      1   |   0   |   16 \n",
      "\n",
      "\n",
      "Frost     |       4    |      5     |      2   |   1   |   15 \n",
      "\n",
      "\n"
     ]
    }
   ],
   "source": [
    "from funciones.juego import tablas_puntuacion\n",
    "\n",
    "rounds = [\n",
    "{\n",
    "'Shadow': {'kills': 2, 'assists': 1, 'deaths': True},\n",
    "'Blaze': {'kills': 1, 'assists': 0, 'deaths': False},\n",
    "'Viper': {'kills': 1, 'assists': 2, 'deaths': True},\n",
    "'Frost': {'kills': 0, 'assists': 1, 'deaths': False},\n",
    "'Reaper': {'kills': 1, 'assists': 1, 'deaths': False}\n",
    "},\n",
    "{\n",
    "'Shadow': {'kills': 0, 'assists': 2, 'deaths': False},\n",
    "'Blaze': {'kills': 2, 'assists': 0, 'deaths': True},\n",
    "'Viper': {'kills': 1, 'assists': 1, 'deaths': False},\n",
    "'Frost': {'kills': 2, 'assists': 1, 'deaths': True},\n",
    "'Reaper': {'kills': 0, 'assists': 1, 'deaths': False}\n",
    "},\n",
    "{\n",
    "'Shadow': {'kills': 1, 'assists': 0, 'deaths': False},\n",
    "'Blaze': {'kills': 2, 'assists': 2, 'deaths': True},\n",
    "'Viper': {'kills': 1, 'assists': 1, 'deaths': True},\n",
    "'Frost': {'kills': 0, 'assists': 1, 'deaths': False},\n",
    "'Reaper': {'kills': 1, 'assists': 1, 'deaths': False}\n",
    "},\n",
    "{\n",
    "'Shadow': {'kills': 2, 'assists': 1, 'deaths': False},\n",
    "'Blaze': {'kills': 1, 'assists': 0, 'deaths': True},\n",
    "'Viper': {'kills': 0, 'assists': 2, 'deaths': False},\n",
    "'Frost': {'kills': 1, 'assists': 1, 'deaths': True},\n",
    "'Reaper': {'kills': 1, 'assists': 1, 'deaths': False}\n",
    "},\n",
    "{ \n",
    "'Shadow': {'kills': 1, 'assists': 2, 'deaths': True},\n",
    "'Blaze': {'kills': 0, 'assists': 1, 'deaths': False},\n",
    "'Viper': {'kills': 2, 'assists': 0, 'deaths': True},\n",
    "'Frost': {'kills': 1, 'assists': 1, 'deaths': False},\n",
    "'Reaper': {'kills': 1, 'assists': 1, 'deaths': True}\n",
    "}\n",
    "]\n",
    "\n",
    "tablas_puntuacion(rounds)"
   ]
  }
 ],
 "metadata": {
  "kernelspec": {
   "display_name": "venv",
   "language": "python",
   "name": "python3"
  },
  "language_info": {
   "codemirror_mode": {
    "name": "ipython",
    "version": 3
   },
   "file_extension": ".py",
   "mimetype": "text/x-python",
   "name": "python",
   "nbconvert_exporter": "python",
   "pygments_lexer": "ipython3",
   "version": "3.12.8"
  }
 },
 "nbformat": 4,
 "nbformat_minor": 2
}
